{
 "cells": [
  {
   "cell_type": "markdown",
   "id": "cf346b34",
   "metadata": {},
   "source": [
    "Nodes.csv"
   ]
  },
  {
   "cell_type": "code",
   "execution_count": null,
   "id": "b9f90ef5",
   "metadata": {},
   "outputs": [],
   "source": [
    "id,name,type,description\n",
    "1,Class 10,Education,Complete Class 10\n",
    "2,Class 11-12 with PCB,Education,Choose Physics, Chemistry, Biology\n",
    "3,NEET Preparation,Activity,Prepare for NEET exam\n",
    "4,NEET Exam,Exam,National medical entrance exam\n",
    "5,MBBS Admission,Milestone,Get admitted based on NEET score\n",
    "6,MBBS Degree,Education,Complete 5.5 years medical degree\n",
    "7,Internship,Activity,1 year mandatory internship\n",
    "8,Specialization (MD/MS),Education,Optional post-graduation\n",
    "9,Become Doctor,Milestone,Licensed practicing doctor\n",
    "10,Class 11-12 with PCM,Education,Choose Physics, Chemistry, Math\n",
    "11,Learn Programming,Skill,Start with Python or C++\n",
    "12,B.Tech in CS / AI,Education,Undergrad in CS or AI\n",
    "13,AI Projects & Internships,Activity,Hands-on projects and work\n",
    "14,Learn ML/DL,Skill,Study Machine Learning & Deep Learning\n",
    "15,M.Tech or Certifications,Education,Specialization in AI\n",
    "16,Become AI Engineer,Milestone,Get hired as AI engineer\n",
    "17,B.Sc in Physics,Education,Undergraduate in Physics\n",
    "18,M.Sc in Physics,Education,Postgraduate in Physics\n",
    "19,Research Experience,Activity,Research or assistantship\n",
    "20,PhD in Physics,Education,Doctorate in Physics\n",
    "21,Become Physicist,Milestone,Physicist in academia or labs\n",
    "22,B.Ed or NET Exam,Exam,Certification for teaching\n",
    "23,Become Physics Teacher,Milestone,School or college teacher\n"
   ]
  },
  {
   "cell_type": "markdown",
   "id": "8c5985e8",
   "metadata": {},
   "source": [
    "Edges.csv"
   ]
  },
  {
   "cell_type": "code",
   "execution_count": null,
   "id": "52219d97",
   "metadata": {},
   "outputs": [],
   "source": [
    "from,to,relationship\n",
    "1,2,NEXT\n",
    "2,3,NEXT\n",
    "3,4,NEXT\n",
    "4,5,NEXT\n",
    "5,6,NEXT\n",
    "6,7,NEXT\n",
    "6,8,OPTIONAL\n",
    "7,9,NEXT\n",
    "8,9,NEXT\n",
    "1,10,NEXT\n",
    "10,11,NEXT\n",
    "11,12,NEXT\n",
    "12,13,NEXT\n",
    "13,14,NEXT\n",
    "13,16,NEXT\n",
    "14,15,OPTIONAL\n",
    "15,16,NEXT\n",
    "\n",
    "from,to,relationship,career\n",
    "1,10,NEXT,All\n",
    "10,17,NEXT,All\n",
    "17,18,NEXT,All\n",
    "\n",
    "// Physicist path\n",
    "18,19,NEXT,Physicist\n",
    "19,20,NEXT,Physicist\n",
    "20,21,NEXT,Physicist\n",
    "\n",
    "// Teacher path\n",
    "18,22,NEXT,Physics Teacher\n",
    "22,23,NEXT,Physics Teacher\n",
    "\n"
   ]
  },
  {
   "cell_type": "code",
   "execution_count": null,
   "id": "bc518b77",
   "metadata": {},
   "outputs": [],
   "source": [
    "// Load nodes\n",
    "LOAD CSV WITH HEADERS FROM 'file:///nodes.csv' AS row\n",
    "MERGE (:Step {id: toInteger(row.id), name: row.name, type: row.type, description: row.description});\n",
    "\n",
    "// Load edges\n",
    "LOAD CSV WITH HEADERS FROM 'file:///edges.csv' AS row\n",
    "MATCH (a:Step {id: toInteger(row.from)}), (b:Step {id: toInteger(row.to)})\n",
    "CREATE (a)-[:`NEXT`]->(b)\n",
    "  ON CREATE SET r.type = row.relationship\n",
    "  FOREACH (_ IN CASE WHEN row.relationship = 'OPTIONAL' THEN [1] ELSE [] END |\n",
    "    CREATE (a)-[:OPTIONAL]->(b)\n",
    "  );\n"
   ]
  },
  {
   "cell_type": "markdown",
   "id": "5b0b3611",
   "metadata": {},
   "source": [
    "Neo4j Bloom for interactive storytelling views.\n",
    "\n",
    "Neovis.js (JavaScript + Neo4j) to embed interactive graphs in a website."
   ]
  },
  {
   "cell_type": "code",
   "execution_count": null,
   "id": "55ea6fb9",
   "metadata": {},
   "outputs": [],
   "source": [
    "MATCH (s:Step) OPTIONAL MATCH (s)-[r]->(t:Step) RETURN s, r, t\n"
   ]
  },
  {
   "cell_type": "code",
   "execution_count": null,
   "id": "c76129a3",
   "metadata": {},
   "outputs": [],
   "source": [
    "CREATE (s:Student {name: \"Riya\", class: \"10\"});\n",
    "MATCH (n:Step {name: \"Class 10\"})\n",
    "CREATE (s)-[:STARTS_AT]->(n);\n"
   ]
  },
  {
   "cell_type": "code",
   "execution_count": null,
   "id": "19736251",
   "metadata": {},
   "outputs": [],
   "source": [
    "MATCH (s:Student)-[:STARTS_AT]->(start)\n",
    "MATCH path = (start)-[*]->(goal)\n",
    "RETURN path\n"
   ]
  },
  {
   "cell_type": "markdown",
   "id": "2940a73d",
   "metadata": {},
   "source": [
    "Create Shared Node Structure"
   ]
  },
  {
   "cell_type": "code",
   "execution_count": null,
   "id": "21fc98e1",
   "metadata": {},
   "outputs": [],
   "source": [
    "MERGE (class10:Step {id: 1, name: \"Class 10\", type: \"Education\", description: \"Complete Class 10\"})\n",
    "\n",
    "// Doctor Path\n",
    "MERGE (pcb:Step {id: 2, name: \"Class 11-12 with PCB\", type: \"Education\", description: \"Choose Physics, Chemistry, Biology\"})\n",
    "MERGE (class10)-[:NEXT {career: \"Doctor\"}]->(pcb)\n",
    "\n",
    "// AI Path\n",
    "MERGE (pcm:Step {id: 10, name: \"Class 11-12 with PCM\", type: \"Education\", description: \"Choose Physics, Chemistry, Math\"})\n",
    "MERGE (class10)-[:NEXT {career: \"AI Engineer\"}]->(pcm)\n"
   ]
  },
  {
   "cell_type": "code",
   "execution_count": null,
   "id": "e063afb4",
   "metadata": {},
   "outputs": [],
   "source": [
    "MATCH path = (start:Step {name: \"Class 10\"})-[:NEXT*]->(goal:Step)\n",
    "WHERE ALL(r IN relationships(path) WHERE r.career = \"Doctor\")\n",
    "RETURN path\n"
   ]
  },
  {
   "cell_type": "code",
   "execution_count": null,
   "id": "f55cedbd",
   "metadata": {},
   "outputs": [],
   "source": [
    "// Load nodes\n",
    "LOAD CSV WITH HEADERS FROM 'file:///nodes.csv' AS row\n",
    "MERGE (:Step {id: toInteger(row.id), name: row.name, type: row.type, description: row.description});\n",
    "\n",
    "// Load edges\n",
    "LOAD CSV WITH HEADERS FROM 'file:///edges.csv' AS row\n",
    "MATCH (a:Step {id: toInteger(row.from)}), (b:Step {id: toInteger(row.to)})\n",
    "MERGE (a)-[r:NEXT]->(b)\n",
    "SET r.career = row.career\n"
   ]
  },
  {
   "cell_type": "code",
   "execution_count": null,
   "id": "66bb5494",
   "metadata": {},
   "outputs": [],
   "source": [
    "CREATE (s:Student {name: \"Ankit\", class: \"10\"});\n",
    "MATCH (start:Step {id: 1})\n",
    "CREATE (s)-[:STARTS_AT]->(start);\n"
   ]
  },
  {
   "cell_type": "code",
   "execution_count": null,
   "id": "7bba76a4",
   "metadata": {},
   "outputs": [],
   "source": [
    "MATCH (start:Step {id: 1})\n",
    "MATCH path = (start)-[r:NEXT*]->(goal)\n",
    "WHERE ALL(x IN r WHERE x.career = 'Physicist' OR x.career = 'All')\n",
    "RETURN path\n"
   ]
  }
 ],
 "metadata": {
  "language_info": {
   "name": "python"
  }
 },
 "nbformat": 4,
 "nbformat_minor": 5
}
